{
 "cells": [
  {
   "cell_type": "markdown",
   "metadata": {},
   "source": [
    "# Random Forest implementation and use 70:30 split data"
   ]
  },
  {
   "cell_type": "code",
   "execution_count": 1,
   "metadata": {},
   "outputs": [
    {
     "name": "stdout",
     "output_type": "stream",
     "text": [
      "forest successfully built\n",
      "### Tree No  1  ######\n",
      " \n",
      " \n",
      "Is petal_length >= 4.9?\n",
      "--> True:\n",
      "('  Predict', {'virginica': 8})\n",
      "--> False:\n",
      "('  Predict', {'not-virginica': 44})\n",
      " \n",
      " \n",
      "### Tree No  2  ######\n",
      " \n",
      " \n",
      "Is petal_length >= 4.9?\n",
      "--> True:\n",
      "('  Predict', {'virginica': 8})\n",
      "--> False:\n",
      "('  Predict', {'not-virginica': 44})\n",
      " \n",
      " \n",
      "### Tree No  3  ######\n",
      " \n",
      " \n",
      "Is sepal_length >= 6.4?\n",
      "--> True:\n",
      "  Is sepal_width >= 2.8?\n",
      "  --> True:\n",
      "('    Predict', {'not-virginica': 5, 'virginica': 1})\n",
      "  --> False:\n",
      "('    Predict', {'virginica': 2})\n",
      "--> False:\n",
      "('  Predict', {'not-virginica': 41, 'virginica': 3})\n",
      " \n",
      " \n",
      "### Tree No  4  ######\n",
      " \n",
      " \n",
      "('Predict', {'not-virginica': 52})\n",
      " \n",
      " \n",
      "### Tree No  5  ######\n",
      " \n",
      " \n",
      "Is petal_width >= 1.6?\n",
      "--> True:\n",
      "  Is sepal_width >= 2.8?\n",
      "  --> True:\n",
      "('    Predict', {'not-virginica': 6, 'virginica': 1})\n",
      "  --> False:\n",
      "('    Predict', {'virginica': 2})\n",
      "--> False:\n",
      "('  Predict', {'not-virginica': 43})\n",
      " \n",
      " \n",
      "### Tree No  6  ######\n",
      " \n",
      " \n",
      "Is petal_width >= 1.9?\n",
      "--> True:\n",
      "('  Predict', {'virginica': 8})\n",
      "--> False:\n",
      "('  Predict', {'not-virginica': 44})\n",
      " \n",
      " \n",
      "### Tree No  7  ######\n",
      " \n",
      " \n",
      "Is petal_length >= 4.9?\n",
      "--> True:\n",
      "('  Predict', {'virginica': 8})\n",
      "--> False:\n",
      "('  Predict', {'not-virginica': 44})\n",
      " \n",
      " \n",
      "### Tree No  8  ######\n",
      " \n",
      " \n",
      "Is petal_width >= 1.9?\n",
      "--> True:\n",
      "('  Predict', {'virginica': 8})\n",
      "--> False:\n",
      "('  Predict', {'not-virginica': 44})\n",
      " \n",
      " \n",
      "### Tree No  9  ######\n",
      " \n",
      " \n",
      "Is petal_length >= 5.1?\n",
      "--> True:\n",
      "('  Predict', {'virginica': 6})\n",
      "--> False:\n",
      "('  Predict', {'not-virginica': 44, 'virginica': 2})\n",
      " \n",
      " \n",
      "### Tree No  10  ######\n",
      " \n",
      " \n",
      "('Predict', {'not-virginica': 48, 'virginica': 4})\n",
      " \n",
      " \n",
      "### Tree No  11  ######\n",
      " \n",
      " \n",
      "Is petal_length >= 4.9?\n",
      "--> True:\n",
      "('  Predict', {'virginica': 8})\n",
      "--> False:\n",
      "('  Predict', {'not-virginica': 44})\n",
      " \n",
      " \n",
      "### Tree No  12  ######\n",
      " \n",
      " \n",
      "Is petal_width >= 1.9?\n",
      "--> True:\n",
      "('  Predict', {'virginica': 8})\n",
      "--> False:\n",
      "('  Predict', {'not-virginica': 44})\n",
      " \n",
      " \n",
      "### Tree No  13  ######\n",
      " \n",
      " \n",
      "Is petal_length >= 4.9?\n",
      "--> True:\n",
      "('  Predict', {'virginica': 8})\n",
      "--> False:\n",
      "('  Predict', {'not-virginica': 44})\n",
      " \n",
      " \n",
      "### Tree No  14  ######\n",
      " \n",
      " \n",
      "('Predict', {'not-virginica': 48, 'virginica': 4})\n",
      " \n",
      " \n",
      "### Tree No  15  ######\n",
      " \n",
      " \n",
      "Is petal_length >= 4.8?\n",
      "--> True:\n",
      "  Is sepal_width >= 2.8?\n",
      "  --> True:\n",
      "('    Predict', {'not-virginica': 6, 'virginica': 2})\n",
      "  --> False:\n",
      "('    Predict', {'virginica': 2})\n",
      "--> False:\n",
      "('  Predict', {'not-virginica': 42})\n",
      " \n",
      " \n",
      "### Tree No  16  ######\n",
      " \n",
      " \n",
      "('Predict', {'not-virginica': 52})\n",
      " \n",
      " \n",
      "### Tree No  17  ######\n",
      " \n",
      " \n",
      "Is petal_width >= 1.9?\n",
      "--> True:\n",
      "('  Predict', {'virginica': 8})\n",
      "--> False:\n",
      "('  Predict', {'not-virginica': 44})\n",
      " \n",
      " \n",
      "### Tree No  18  ######\n",
      " \n",
      " \n",
      "Is petal_length >= 4.9?\n",
      "--> True:\n",
      "('  Predict', {'virginica': 8})\n",
      "--> False:\n",
      "('  Predict', {'not-virginica': 44})\n",
      " \n",
      " \n",
      "### Tree No  19  ######\n",
      " \n",
      " \n",
      "Is sepal_length >= 6.4?\n",
      "--> True:\n",
      "  Is sepal_width >= 2.8?\n",
      "  --> True:\n",
      "('    Predict', {'not-virginica': 5, 'virginica': 1})\n",
      "  --> False:\n",
      "('    Predict', {'virginica': 2})\n",
      "--> False:\n",
      "('  Predict', {'not-virginica': 41, 'virginica': 3})\n",
      " \n",
      " \n",
      "### Tree No  20  ######\n",
      " \n",
      " \n",
      "Is petal_width >= 1.9?\n",
      "--> True:\n",
      "('  Predict', {'virginica': 8})\n",
      "--> False:\n",
      "('  Predict', {'not-virginica': 44})\n",
      " \n",
      " \n",
      "1.0\n"
     ]
    }
   ],
   "source": [
    "from trees import decisionTree, randomForest\n",
    "from utils import import_data, K_fold_split, normal_split, transform_pd, transform_question\n",
    "\n",
    "\n",
    "import pandas as pd\n",
    "\n",
    "filepath = 'datasets/tennis.csv'\n",
    "\n",
    "data = import_data(filepath)\n",
    "\n",
    "# dt = decisionTree('classification', 'gini', data, 0, 100)\n",
    "# tree = dt.train()\n",
    "# dt.construct_tree(tree, \"\")\n",
    "\n",
    "filepath_2 = 'datasets/iris.csv'\n",
    "iris_data = import_data(filepath_2)\n",
    "\n",
    "\n",
    "\n",
    "train, validate, test = normal_split(iris_data, 0.7)\n",
    "train_data, validate_data, test_data = transform_pd(train, iris_data), transform_pd(validate, iris_data), transform_pd(test, iris_data)\n",
    "train_validate = transform_pd(train+validate, iris_data)\n",
    "rf = randomForest('classification', 'gini', train_validate, 20)\n",
    "\n",
    "forest = rf.train()\n",
    "rf.construct_forest()\n",
    "\n",
    "count = 0.0\n",
    "for row in test:\n",
    "    count += (rf.predict_f(list(iris_data.iloc[row, :-1])) == iris_data.iloc[row, -1])\n",
    "print count/len(test)"
   ]
  },
  {
   "cell_type": "markdown",
   "metadata": {},
   "source": [
    "# Random Forest use on K-Fold Cross validation Data"
   ]
  },
  {
   "cell_type": "code",
   "execution_count": 2,
   "metadata": {},
   "outputs": [
    {
     "name": "stdout",
     "output_type": "stream",
     "text": [
      "forest successfully built\n",
      "0.866666666667\n",
      "forest successfully built\n",
      "1.0\n",
      "forest successfully built\n",
      "0.9\n",
      "forest successfully built\n",
      "0.966666666667\n",
      "forest successfully built\n",
      "0.933333333333\n"
     ]
    }
   ],
   "source": [
    "n_folds = 5\n",
    "K_fold_data = K_fold_split(iris_data, n_folds)\n",
    "for i in xrange(n_folds):\n",
    "    test = K_fold_data[i]\n",
    "    train = []\n",
    "    for j in xrange(n_folds):\n",
    "        if i != j:\n",
    "            train.extend(K_fold_data[j])\n",
    "    train_data = transform_pd(train, iris_data)\n",
    "    rf = randomForest('classification', 'gini', train_validate, 5)\n",
    "    forest = rf.train()\n",
    "    count = 0.0\n",
    "    for row in test:\n",
    "        count += (rf.predict_f(list(iris_data.iloc[row, :-1])) == iris_data.iloc[row, -1])\n",
    "    print count/len(test)"
   ]
  },
  {
   "cell_type": "markdown",
   "metadata": {},
   "source": [
    "# Parrallel VS Serial Random Forest"
   ]
  },
  {
   "cell_type": "code",
   "execution_count": 3,
   "metadata": {
    "scrolled": true
   },
   "outputs": [
    {
     "name": "stdout",
     "output_type": "stream",
     "text": [
      "forest successfully built\n",
      "4.39641499519\n"
     ]
    }
   ],
   "source": [
    "import time\n",
    "rf = randomForest('classification', 'gini', train_validate, 10)\n",
    "\n",
    "start = time.time()\n",
    "forest = rf.train_serial()\n",
    "end = time.time()\n",
    "\n",
    "print end-start #serial process"
   ]
  },
  {
   "cell_type": "code",
   "execution_count": 18,
   "metadata": {
    "scrolled": true
   },
   "outputs": [
    {
     "name": "stdout",
     "output_type": "stream",
     "text": [
      "forest successfully built\n",
      "3.46253800392\n"
     ]
    }
   ],
   "source": [
    "start = time.time()\n",
    "forest = rf.train()\n",
    "end = time.time()\n",
    "\n",
    "print end-start #parallel process"
   ]
  },
  {
   "cell_type": "markdown",
   "metadata": {},
   "source": [
    "# Random Function\n",
    "\n"
   ]
  },
  {
   "cell_type": "code",
   "execution_count": 13,
   "metadata": {},
   "outputs": [
    {
     "data": {
      "image/png": "[encoded data removed]",
      "text/plain": [
       "<Figure size 432x288 with 1 Axes>"
      ]
     },
     "metadata": {
      "needs_background": "light"
     },
     "output_type": "display_data"
    }
   ],
   "source": [
    "import time\n",
    "\n",
    "\n",
    "class Random(object):\n",
    "    def __init__(self, seed=0):\n",
    "        self.seed = seed\n",
    "        self.start_no = 0xabfeeed\n",
    "\n",
    "    def generate_seed(self):\n",
    "        g = time.time()\n",
    "        return int((g - int(g))*10000000000)\n",
    "    \n",
    "    def random(self):\n",
    "        if self.seed == 0:\n",
    "            self.seed = self.generate_seed()\n",
    "        random_number = self.seed & 0xfffffffffff\n",
    "        random_number ^= ( random_number >> 25 )\n",
    "        random_number ^= ( random_number << 13 )\n",
    "        random_number *= 0x2545 * 0.00000000001\n",
    "        return random_number - int(random_number)\n",
    "        \n",
    "    def randint(self, start, end):\n",
    "        if self.seed == 0:\n",
    "            self.seed = self.generate_seed()\n",
    "        random_number = self.seed & 0xfffffffffff\n",
    "        random_number ^= ( random_number >> 25 )\n",
    "        random_number ^= ( random_number << 13 )\n",
    "        random_number *= self.generate_seed() * 0.00000000001\n",
    "        random_number = random_number - int(random_number)\n",
    "        random_number =  int(random_number*100000)\n",
    "        random_number = (random_number % (end-start)) + start\n",
    "        return random_number\n",
    "\n",
    "\n",
    "import matplotlib.pyplot as plt\n",
    "\n",
    "\n",
    "\n",
    "k = Random()\n",
    "x = range(100)\n",
    "y = list()\n",
    "for j in xrange(100):\n",
    "    y.append(0)\n",
    "numbers = []\n",
    "for i in xrange(1000):\n",
    "    l = k.randint(1, 100)\n",
    "    numbers.append(l)\n",
    "    y[l] += 1\n",
    "\n",
    "plt.bar(x, y)\n",
    "plt.show()"
   ]
  },
  {
   "cell_type": "markdown",
   "metadata": {},
   "source": [
    "# Y = MX + C data generated and noise added"
   ]
  },
  {
   "cell_type": "code",
   "execution_count": 6,
   "metadata": {},
   "outputs": [
    {
     "data": {
      "image/png": "[encoded data removed]",
      "text/plain": [
       "<Figure size 432x288 with 1 Axes>"
      ]
     },
     "metadata": {
      "needs_background": "light"
     },
     "output_type": "display_data"
    }
   ],
   "source": [
    "import numpy as np\n",
    "\n",
    "m = 5\n",
    "c = 40\n",
    "\n",
    "solutions = np.ones((50, 2))\n",
    "for i in xrange(50):\n",
    "    x = k.randint(-40, 40)\n",
    "    y = m*x + c\n",
    "    solutions[i, 0] = x\n",
    "    solutions[i, 1] = y\n",
    "solutions_noisy = solutions + (np.random.rand(50, 2)*30)\n",
    "\n",
    "\n",
    "plt.scatter(solutions_noisy[:, 0], solutions_noisy[:, 1])\n",
    "plt.show()"
   ]
  },
  {
   "cell_type": "markdown",
   "metadata": {},
   "source": [
    "# Polynomial fit (5)"
   ]
  },
  {
   "cell_type": "code",
   "execution_count": 7,
   "metadata": {},
   "outputs": [
    {
     "data": {
      "image/png": "[encoded data removed]",
      "text/plain": [
       "<Figure size 432x288 with 1 Axes>"
      ]
     },
     "metadata": {
      "needs_background": "light"
     },
     "output_type": "display_data"
    }
   ],
   "source": [
    "x = solutions_noisy[:, 0]\n",
    "y = solutions_noisy[:, 1]\n",
    "\n",
    "\n",
    "\n",
    "p = np.poly1d(np.polyfit(x, y, 5))\n",
    "plt.plot(x, y, 'o', x, p(x), '-')\n",
    "plt.show()"
   ]
  },
  {
   "cell_type": "markdown",
   "metadata": {},
   "source": [
    "# Average polynomail fit"
   ]
  },
  {
   "cell_type": "code",
   "execution_count": 8,
   "metadata": {},
   "outputs": [
    {
     "data": {
      "image/png": "[encoded data removed]",
      "text/plain": [
       "<Figure size 432x288 with 1 Axes>"
      ]
     },
     "metadata": {
      "needs_background": "light"
     },
     "output_type": "display_data"
    }
   ],
   "source": [
    "polynomials = list()\n",
    "\n",
    "for i in xrange(100):\n",
    "    t = list()\n",
    "    for j in xrange(20):\n",
    "        t.append(k.randint(0, 49))\n",
    "    x_t = solutions_noisy[t, 0]\n",
    "    y_t = solutions_noisy[t, 1]\n",
    "    p = np.poly1d(np.polyfit(x_t, y_t, 5))\n",
    "    polynomials.append(p)\n",
    "#     plt.plot(x, y, 'o', x, p(x), '-')\n",
    "#     plt.show()\n",
    "    \n",
    "    \n",
    "p_mean = sum(polynomials)/100\n",
    "plt.plot(x, y, 'o', x, p_mean(x), '-')\n",
    "plt.show()\n",
    "    "
   ]
  },
  {
   "cell_type": "markdown",
   "metadata": {},
   "source": [
    "# Kaggle Competition\n"
   ]
  },
  {
   "cell_type": "code",
   "execution_count": 9,
   "metadata": {},
   "outputs": [
    {
     "name": "stderr",
     "output_type": "stream",
     "text": [
      "/Users/jayakrishnasahit/miniconda2/lib/python2.7/site-packages/IPython/core/interactiveshell.py:2818: DtypeWarning: Columns (13,39,40,41) have mixed types. Specify dtype option on import or set low_memory=False.\n",
      "  if self.run_code(code, result):\n",
      "/Users/jayakrishnasahit/miniconda2/lib/python2.7/site-packages/ipykernel_launcher.py:19: FutureWarning: Method .as_matrix will be removed in a future version. Use .values instead.\n"
     ]
    },
    {
     "name": "stdout",
     "output_type": "stream",
     "text": [
      "[[ 121. 2004.   68. ...    0.    0.    0.]\n",
      " [ 121. 1996. 4640. ...    0.    0.    0.]\n",
      " [ 121. 2001. 2838. ...    0.    0.    0.]\n",
      " ...\n",
      " [ 149. 2005.    0. ...    0.    0.    0.]\n",
      " [ 149. 2005.    0. ...    0.    0.    0.]\n",
      " [ 149. 2005.    0. ...    0.    0.    0.]]\n"
     ]
    },
    {
     "name": "stderr",
     "output_type": "stream",
     "text": [
      "/Users/jayakrishnasahit/miniconda2/lib/python2.7/site-packages/ipykernel_launcher.py:20: FutureWarning: Method .as_matrix will be removed in a future version. Use .values instead.\n"
     ]
    }
   ],
   "source": [
    "kaggle_test = 'datasets/kaggle_bulldozer/Train.csv'\n",
    "from sklearn import tree, preprocessing\n",
    "\n",
    "\n",
    "kaggle_test_data = import_data(kaggle_test)\n",
    "\n",
    "kaggle_test_data = kaggle_test_data.drop(['SalesID', 'MachineID', 'ModelID','auctioneerID','saledate','fiProductClassDesc','fiBaseModel','fiModelSeries','fiModelDesc','fiModelDescriptor'], axis=1)\n",
    "\n",
    "headers = list(kaggle_test_data)\n",
    "\n",
    "\n",
    "\n",
    "kaggle_X_data = kaggle_test_data.fillna(0)\n",
    "kaggle_Y_data = kaggle_X_data['SalePrice']\n",
    "kaggle_X_data = kaggle_X_data.drop(['SalePrice'], axis=1)\n",
    "kaggle_X_data = pd.get_dummies(kaggle_X_data)\n",
    "\n",
    "clf = tree.DecisionTreeClassifier()\n",
    "print kaggle_X_data.as_matrix()\n",
    "clf = clf.fit(kaggle_X_data.as_matrix(), kaggle_Y_data.as_matrix())\n"
   ]
  },
  {
   "cell_type": "code",
   "execution_count": 10,
   "metadata": {
    "scrolled": false
   },
   "outputs": [
    {
     "name": "stdout",
     "output_type": "stream",
     "text": [
      "0\n"
     ]
    }
   ],
   "source": [
    "test_path = 'datasets/kaggle_bulldozer/Test.csv'\n",
    "\n",
    "test = import_data(test_path)\n",
    "\n",
    "\n",
    "test = test.drop(['SalesID', 'MachineID', 'ModelID','auctioneerID','saledate','fiProductClassDesc','fiBaseModel','fiModelSeries','fiModelDesc','fiModelDescriptor'], axis=1)\n",
    "\n",
    "\n",
    "\n",
    "\n",
    "test_data = test.fillna(0)\n",
    "test_data = pd.get_dummies(test_data)\n",
    "\n",
    "gg =  kaggle_X_data.shape[1] - test_data.shape[1] \n",
    "\n",
    "l = np.zeros((test_data.shape[0], gg))\n",
    "test_data = np.append(test_data, l, axis=1)\n",
    "\n",
    "print kaggle_X_data.shape[1] - test_data.shape[1]\n",
    "predictions = clf.predict(test_data)\n",
    "\n",
    "\n",
    "test = import_data(test_path)\n",
    "\n",
    "# print test['SalesID'][2]\n",
    "\n",
    "f = list()\n",
    "for i in xrange(predictions.shape[0]):\n",
    "    d = {\n",
    "        'SalesID': test['SalesID'][i],\n",
    "        'SalePrice': predictions[i]\n",
    "    }\n",
    "    f.append(d)\n",
    "    \n",
    "df = pd.DataFrame(f)\n",
    "df.to_csv('Results.csv', index=False)"
   ]
  },
  {
   "cell_type": "markdown",
   "metadata": {},
   "source": [
    "# ADA Boost without noise"
   ]
  },
  {
   "cell_type": "code",
   "execution_count": 11,
   "metadata": {
    "scrolled": false
   },
   "outputs": [
    {
     "name": "stdout",
     "output_type": "stream",
     "text": [
      "Is petal_width >= 1.8?\n",
      "--> True:\n",
      "('  Predict', {'not-virginica': 1, 'virginica': 45})\n",
      "--> False:\n",
      "('  Predict', {'not-virginica': 99, 'virginica': 5})\n",
      "Is petal_length >= 4.8?\n",
      "--> True:\n",
      "('  Predict', {'not-virginica': 6, 'virginica': 49})\n",
      "--> False:\n",
      "('  Predict', {'not-virginica': 94, 'virginica': 1})\n",
      "Is sepal_length >= 6.2?\n",
      "--> True:\n",
      "('  Predict', {'not-virginica': 16, 'virginica': 39})\n",
      "--> False:\n",
      "('  Predict', {'not-virginica': 84, 'virginica': 11})\n",
      "Is sepal_width >= 3.4?\n",
      "--> True:\n",
      "('  Predict', {'not-virginica': 31, 'virginica': 5})\n",
      "--> False:\n",
      "('  Predict', {'not-virginica': 69, 'virginica': 45})\n",
      "('Predict', {'not-virginica': 100, 'virginica': 50})\n",
      "('Predict', {'not-virginica': 100, 'virginica': 50})\n",
      "('Predict', {'not-virginica': 100, 'virginica': 50})\n",
      "('Predict', {'not-virginica': 100, 'virginica': 50})\n",
      "[3.178053830347948, 1.489293600592035, 0.3687967776914219, -0.30467300822657034, -5.7731597280508306e-15, 0.0, 0.0, 0.0]\n",
      "ADABoost done successfully\n"
     ]
    }
   ],
   "source": [
    "from trees import ADABoost\n",
    "\n",
    "ab = ADABoost('classification', 'gini', iris_data, 8)\n",
    "ab.train()"
   ]
  },
  {
   "cell_type": "markdown",
   "metadata": {},
   "source": [
    "# ADABoost - with noise added"
   ]
  },
  {
   "cell_type": "code",
   "execution_count": 12,
   "metadata": {},
   "outputs": [
    {
     "name": "stdout",
     "output_type": "stream",
     "text": [
      "1\n"
     ]
    }
   ],
   "source": [
    "train, validate, test = normal_split(iris_data, 0.7)\n",
    "\n",
    "count = 0 \n",
    "for row in test:\n",
    "    count += (ab.predict_adaboost(list(iris_data.iloc[row, :-1])) == iris_data.iloc[row, -1])\n",
    "print count/len(test)"
   ]
  },
  {
   "cell_type": "markdown",
   "metadata": {},
   "source": [
    "Is petal_width >= 1.7?\n",
    "--> True:\n",
    "('  Predict', {'not-virginica': 9, 'virginica': 46})\n",
    "--> False:\n",
    "('  Predict', {'not-virginica': 91, 'virginica': 4})\n",
    "Is petal_length >= 4.8?\n",
    "--> True:\n",
    "('  Predict', {'not-virginica': 15, 'virginica': 49})\n",
    "--> False:\n",
    "('  Predict', {'not-virginica': 85, 'virginica': 1})\n",
    "Is sepal_length >= 6.3?\n",
    "--> True:\n",
    "('  Predict', {'not-virginica': 19, 'virginica': 37})\n",
    "--> False:\n",
    "('  Predict', {'not-virginica': 81, 'virginica': 13})\n",
    "Is sepal_width >= 3.4?\n",
    "--> True:\n",
    "('  Predict', {'not-virginica': 33, 'virginica': 5})\n",
    "--> False:\n",
    "('  Predict', {'not-virginica': 67, 'virginica': 45})\n",
    "('Predict', {'not-virginica': 100, 'virginica': 50})\n",
    "('Predict', {'not-virginica': 100, 'virginica': 50})\n",
    "('Predict', {'not-virginica': 100, 'virginica': 50})\n",
    "('Predict', {'not-virginica': 100, 'virginica': 50})\n",
    "\n",
    "\n",
    "\n",
    "\n",
    "\n",
    "\n",
    "[2.355031568366591, 0.5249251523749128, -0.18058494955851478, 1.0135142107681097, -8.881784197001256e-16, -4.440892098500627e-16, 2.2204460492503128e-16, -4.440892098500627e-16]\n"
   ]
  }
 ],
 "metadata": {
  "kernelspec": {
   "display_name": "Python 2",
   "language": "python",
   "name": "python2"
  },
  "language_info": {
   "codemirror_mode": {
    "name": "ipython",
    "version": 2
   },
   "file_extension": ".py",
   "mimetype": "text/x-python",
   "name": "python",
   "nbconvert_exporter": "python",
   "pygments_lexer": "ipython2",
   "version": "2.7.15"
  }
 },
 "nbformat": 4,
 "nbformat_minor": 2
}
