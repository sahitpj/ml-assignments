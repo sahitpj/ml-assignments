{
 "cells": [
  {
   "cell_type": "markdown",
   "metadata": {},
   "source": [
    "### Question 1\n",
    "\n",
    "Considering date to be used, then the date featured would be used first, where one node would be about one date. This is bad because, in order to achieve higher accuracy the depth of the tree would have to be high\n"
   ]
  },
  {
   "cell_type": "code",
   "execution_count": 1,
   "metadata": {},
   "outputs": [
    {
     "name": "stdout",
     "output_type": "stream",
     "text": [
      "Tree built successfully\n",
      "Is Humidity == Normal?\n",
      "--> True:\n",
      "  Is Outlook == Sunny?\n",
      "  --> True:\n",
      "('    Predict', {'No': 2})\n",
      "  --> False:\n",
      "    Is Temperature == Hot?\n",
      "    --> True:\n",
      "('      Predict', {'Yes': 1, 'No': 2})\n",
      "    --> False:\n",
      "('      Predict', {'Yes': 2})\n",
      "--> False:\n",
      "('  Predict', {'Yes': 3, 'No': 4})\n"
     ]
    }
   ],
   "source": [
    "from trees import decisionTree, randomForest\n",
    "from utils import import_data\n",
    "import pandas as pd\n",
    "\n",
    "\n",
    "import pandas as pd\n",
    "\n",
    "filepath = 'datasets/tennis.csv'\n",
    "\n",
    "data = import_data(filepath)\n",
    "\n",
    "dt = decisionTree('classification', 'gini', data, 0, 100)\n",
    "tree = dt.train()\n",
    "dt.construct_tree(tree, \"\")\n",
    "# test = ['Overcast','Cold','Normal','Strong']\n",
    "# a,b = dt.predict(test, tree)\n",
    "# print a, b"
   ]
  },
  {
   "cell_type": "code",
   "execution_count": 2,
   "metadata": {},
   "outputs": [
    {
     "name": "stdout",
     "output_type": "stream",
     "text": [
      "     sepal_length  sepal_width  petal_length  petal_width     species\n",
      "142           5.8          2.7           5.1          1.9   virginica\n",
      "133           6.3          2.8           5.1          1.5   virginica\n",
      "91            6.1          3.0           4.6          1.4  versicolor\n",
      "16            5.4          3.9           1.3          0.4      setosa\n",
      "114           5.8          2.8           5.1          2.4   virginica\n",
      "15            5.7          4.4           1.5          0.4      setosa\n",
      "13            4.3          3.0           1.1          0.1      setosa\n",
      "33            5.5          4.2           1.4          0.2      setosa\n",
      "104           6.5          3.0           5.8          2.2   virginica\n",
      "12            4.8          3.0           1.4          0.1      setosa\n",
      "43            5.0          3.5           1.6          0.6      setosa\n",
      "131           7.9          3.8           6.4          2.0   virginica\n",
      "117           7.7          3.8           6.7          2.2   virginica\n",
      "12            4.8          3.0           1.4          0.1      setosa\n",
      "122           7.7          2.8           6.7          2.0   virginica\n",
      "7             5.0          3.4           1.5          0.2      setosa\n",
      "82            5.8          2.7           3.9          1.2  versicolor\n",
      "103           6.3          2.9           5.6          1.8   virginica\n",
      "118           7.7          2.6           6.9          2.3   virginica\n",
      "59            5.2          2.7           3.9          1.4  versicolor\n",
      "63            6.1          2.9           4.7          1.4  versicolor\n",
      "98            5.1          2.5           3.0          1.1  versicolor\n",
      "85            6.0          3.4           4.5          1.6  versicolor\n",
      "117           7.7          3.8           6.7          2.2   virginica\n",
      "63            6.1          2.9           4.7          1.4  versicolor\n",
      "104           6.5          3.0           5.8          2.2   virginica\n",
      "121           5.6          2.8           4.9          2.0   virginica\n",
      "35            5.0          3.2           1.2          0.2      setosa\n",
      "21            5.1          3.7           1.5          0.4      setosa\n",
      "18            5.7          3.8           1.7          0.3      setosa\n",
      "..            ...          ...           ...          ...         ...\n",
      "67            5.8          2.7           4.1          1.0  versicolor\n",
      "100           6.3          3.3           6.0          2.5   virginica\n",
      "55            5.7          2.8           4.5          1.3  versicolor\n",
      "2             4.7          3.2           1.3          0.2      setosa\n",
      "6             4.6          3.4           1.4          0.3      setosa\n",
      "22            4.6          3.6           1.0          0.2      setosa\n",
      "32            5.2          4.1           1.5          0.1      setosa\n",
      "85            6.0          3.4           4.5          1.6  versicolor\n",
      "52            6.9          3.1           4.9          1.5  versicolor\n",
      "8             4.4          2.9           1.4          0.2      setosa\n",
      "88            5.6          3.0           4.1          1.3  versicolor\n",
      "28            5.2          3.4           1.4          0.2      setosa\n",
      "88            5.6          3.0           4.1          1.3  versicolor\n",
      "37            4.9          3.1           1.5          0.1      setosa\n",
      "59            5.2          2.7           3.9          1.4  versicolor\n",
      "74            6.4          2.9           4.3          1.3  versicolor\n",
      "61            5.9          3.0           4.2          1.5  versicolor\n",
      "2             4.7          3.2           1.3          0.2      setosa\n",
      "42            4.4          3.2           1.3          0.2      setosa\n",
      "15            5.7          4.4           1.5          0.4      setosa\n",
      "18            5.7          3.8           1.7          0.3      setosa\n",
      "17            5.1          3.5           1.4          0.3      setosa\n",
      "30            4.8          3.1           1.6          0.2      setosa\n",
      "18            5.7          3.8           1.7          0.3      setosa\n",
      "67            5.8          2.7           4.1          1.0  versicolor\n",
      "77            6.7          3.0           5.0          1.7  versicolor\n",
      "10            5.4          3.7           1.5          0.2      setosa\n",
      "48            5.3          3.7           1.5          0.2      setosa\n",
      "28            5.2          3.4           1.4          0.2      setosa\n",
      "38            4.4          3.0           1.3          0.2      setosa\n",
      "\n",
      "[74 rows x 5 columns]\n"
     ]
    }
   ],
   "source": [
    "filepath_2 = 'datasets/iris.csv'\n",
    "\n",
    "\n",
    "from utils import import_data, K_fold_split, normal_split, transform_pd, transform_question\n",
    "\n",
    "train, validate, test = normal_split(import_data(filepath_2), 0.7)\n",
    "train_data = transform_pd(train, import_data(filepath_2))\n",
    "\n",
    "\n",
    "print transform_pd(train, import_data(filepath_2))"
   ]
  },
  {
   "cell_type": "code",
   "execution_count": 3,
   "metadata": {},
   "outputs": [
    {
     "name": "stdout",
     "output_type": "stream",
     "text": [
      "Tree built successfully\n",
      "Is petal_width >= 1.0?\n",
      "--> True:\n",
      "  Is petal_length >= 3.0?\n",
      "  --> True:\n",
      "    Is sepal_length >= 5.8?\n",
      "    --> True:\n",
      "      Is sepal_width >= 2.9?\n",
      "      --> True:\n",
      "('        Predict', {'setosa': 6, 'versicolor': 1, 'virginica': 2})\n",
      "      --> False:\n",
      "('        Predict', {'virginica': 3})\n",
      "    --> False:\n",
      "('      Predict', {'setosa': 8, 'versicolor': 2})\n",
      "  --> False:\n",
      "('    Predict', {'setosa': 16})\n",
      "--> False:\n",
      "('  Predict', {'setosa': 36})\n"
     ]
    }
   ],
   "source": [
    "dt = decisionTree('classification', 'gini', train_data, 0, 100)\n",
    "tree = dt.train()\n",
    "dt.construct_tree(tree, \"\")\n",
    "\n"
   ]
  },
  {
   "cell_type": "code",
   "execution_count": 11,
   "metadata": {},
   "outputs": [
    {
     "name": "stdout",
     "output_type": "stream",
     "text": [
      "({'setosa': 36}, 'setosa') setosa\n",
      "({'setosa': 36}, 'setosa') setosa\n",
      "({'setosa': 36}, 'setosa') setosa\n",
      "({'setosa': 36}, 'setosa') setosa\n",
      "({'setosa': 36}, 'setosa') setosa\n",
      "({'setosa': 36}, 'setosa') setosa\n",
      "({'setosa': 36}, 'setosa') setosa\n",
      "({'setosa': 36}, 'setosa') setosa\n",
      "({'setosa': 36}, 'setosa') setosa\n",
      "({'setosa': 36}, 'setosa') setosa\n",
      "({'setosa': 36}, 'setosa') setosa\n",
      "({'setosa': 36}, 'setosa') setosa\n",
      "({'setosa': 36}, 'setosa') setosa\n",
      "({'setosa': 36}, 'setosa') setosa\n",
      "({'setosa': 36}, 'setosa') setosa\n",
      "({'setosa': 36}, 'setosa') setosa\n",
      "({'setosa': 36}, 'setosa') setosa\n",
      "({'setosa': 36}, 'setosa') setosa\n",
      "({'setosa': 36}, 'setosa') setosa\n",
      "({'setosa': 36}, 'setosa') setosa\n",
      "({'setosa': 36}, 'setosa') setosa\n",
      "({'setosa': 36}, 'setosa') setosa\n",
      "({'setosa': 36}, 'setosa') setosa\n",
      "({'setosa': 36}, 'setosa') setosa\n",
      "({'setosa': 36}, 'setosa') setosa\n",
      "({'setosa': 36}, 'setosa') setosa\n",
      "({'setosa': 36}, 'setosa') setosa\n",
      "({'setosa': 36}, 'setosa') setosa\n",
      "({'setosa': 36}, 'setosa') setosa\n",
      "({'setosa': 36}, 'setosa') setosa\n",
      "({'setosa': 36}, 'setosa') setosa\n",
      "({'setosa': 36}, 'setosa') setosa\n",
      "({'setosa': 36}, 'setosa') setosa\n",
      "({'setosa': 36}, 'setosa') setosa\n",
      "({'setosa': 36}, 'setosa') setosa\n",
      "({'setosa': 36}, 'setosa') setosa\n",
      "({'setosa': 36}, 'setosa') setosa\n",
      "({'setosa': 36}, 'setosa') setosa\n",
      "({'setosa': 36}, 'setosa') setosa\n",
      "({'setosa': 36}, 'setosa') setosa\n",
      "({'setosa': 36}, 'setosa') setosa\n",
      "({'setosa': 36}, 'setosa') setosa\n",
      "({'setosa': 36}, 'setosa') setosa\n",
      "({'setosa': 36}, 'setosa') setosa\n",
      "({'setosa': 36}, 'setosa') setosa\n"
     ]
    }
   ],
   "source": [
    "from utils import transform_question\n",
    "\n",
    "iris_data = import_data(filepath_2)\n",
    "\n",
    "for row in test:\n",
    "    print dt.predict(transform_question(row, iris_data), tree), iris_data.iloc[row, -1]\n",
    "    \n",
    "    \n",
    "    \n",
    "#the following are the predictions versus the actual value"
   ]
  },
  {
   "cell_type": "code",
   "execution_count": 18,
   "metadata": {},
   "outputs": [
    {
     "name": "stdout",
     "output_type": "stream",
     "text": [
      "Tree built successfully\n",
      "0.6\n",
      "Tree built successfully\n",
      "0.3\n",
      "Tree built successfully\n",
      "0.533333333333\n",
      "Tree built successfully\n",
      "0.833333333333\n",
      "Tree built successfully\n",
      "0.8\n"
     ]
    }
   ],
   "source": [
    "n_folds = 5\n",
    "K_fold_data = K_fold_split(iris_data, n_folds)\n",
    "\n",
    "validation_trees = []\n",
    "\n",
    "for i in xrange(n_folds):\n",
    "    test = K_fold_data[i]\n",
    "    train = []\n",
    "    for j in xrange(n_folds):\n",
    "        if i != j:\n",
    "            train.extend(K_fold_data[j])\n",
    "    train_data = transform_pd(train, iris_data)\n",
    "    dt = decisionTree('classification', 'gini', train_data, 0, 100)\n",
    "    tree = dt.train()\n",
    "    count = 0.0\n",
    "    for row in test:\n",
    "        count += (dt.predict(transform_question(row, iris_data), tree)[-1] == iris_data.iloc[row, -1])\n",
    "    print count/len(test)\n",
    "        "
   ]
  }
 ],
 "metadata": {
  "kernelspec": {
   "display_name": "Python 2",
   "language": "python",
   "name": "python2"
  },
  "language_info": {
   "codemirror_mode": {
    "name": "ipython",
    "version": 2
   },
   "file_extension": ".py",
   "mimetype": "text/x-python",
   "name": "python",
   "nbconvert_exporter": "python",
   "pygments_lexer": "ipython2",
   "version": "2.7.15"
  }
 },
 "nbformat": 4,
 "nbformat_minor": 2
}
